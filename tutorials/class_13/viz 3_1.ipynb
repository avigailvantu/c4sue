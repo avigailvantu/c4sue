{
 "cells": [
  {
   "cell_type": "markdown",
   "metadata": {},
   "source": [
    "## Conclusions and viz notebook "
   ]
  },
  {
   "cell_type": "code",
   "execution_count": null,
   "metadata": {},
   "outputs": [],
   "source": [
    "import numpy as np\n",
    "import pandas as pd\n",
    "#import geopandas as gpd \n",
    "import matplotlib \n",
    "import matplotlib.pyplot as plt\n",
    "#from geopandas import GeoDataFrame\n",
    "PIK = \"pickle.dat\" # "
   ]
  },
  {
   "cell_type": "code",
   "execution_count": null,
   "metadata": {},
   "outputs": [],
   "source": [
    "# loading data from notebook 1_1\n",
    "\n",
    "df = pd.read_pickle(\"./name.pkl\")\n",
    "geodf1 = pd.read_pickle(\"./name1.pkl\")\n",
    "geodf2 = pd.read_pickle(\"./name2.pkl\")\n",
    "\n",
    "#and df from notebook 2_1\n",
    "df_merged = pd.read_pickle(\"./merged.pkl\")\n"
   ]
  },
  {
   "cell_type": "markdown",
   "metadata": {},
   "source": [
    "### Here you can choose any method to analyze/visualize what makes the most sense.\n",
    "\n",
    "For example: \n",
    "\n",
    "- time series: https://github.com/avigailvantu/c4sue/blob/master/tutorials/class_9/class_9.ipynb\n",
    "- scatter plots: https://github.com/avigailvantu/c4sue/blob/master/tutorials/class_8/class_8.ipynb \n",
    "- mapping mapping mapping: \n",
    "         \n",
    "https://github.com/avigailvantu/c4sue/blob/master/tutorials/Class%2010/Class%2010/class_10.ipynb\n",
    "\n",
    "OR\n",
    "    \n",
    "\n",
    "https://github.com/avigailvantu/c4sue/blob/master/tutorials/class_11/class%2011%20-%20part%202.ipynb\n",
    "\n",
    "OR \n",
    "\n",
    "https://github.com/avigailvantu/c4sue/blob/master/tutorials/class_11/class%2011%20-%20part%202.ipynb\n",
    "\n",
    "- \n"
   ]
  },
  {
   "cell_type": "code",
   "execution_count": null,
   "metadata": {},
   "outputs": [],
   "source": []
  }
 ],
 "metadata": {
  "kernelspec": {
   "display_name": "Python 3",
   "language": "python",
   "name": "python3"
  },
  "language_info": {
   "codemirror_mode": {
    "name": "ipython",
    "version": 3
   },
   "file_extension": ".py",
   "mimetype": "text/x-python",
   "name": "python",
   "nbconvert_exporter": "python",
   "pygments_lexer": "ipython3",
   "version": "3.7.6"
  }
 },
 "nbformat": 4,
 "nbformat_minor": 4
}
