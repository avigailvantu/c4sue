{
 "cells": [
  {
   "cell_type": "markdown",
   "metadata": {},
   "source": [
    "# Example for merging and describing data "
   ]
  },
  {
   "cell_type": "code",
   "execution_count": null,
   "metadata": {},
   "outputs": [],
   "source": [
    "import numpy as np\n",
    "import pandas as pd\n",
    "#import geopandas as gpd \n",
    "import matplotlib \n",
    "import matplotlib.pyplot as plt\n",
    "#from geopandas import GeoDataFrame\n",
    "PIK = \"pickle.dat\" #  <--- for unpickling  "
   ]
  },
  {
   "cell_type": "code",
   "execution_count": null,
   "metadata": {},
   "outputs": [],
   "source": [
    "# unpickling data/dataframes from step 1: \n",
    "\n",
    "df = pd.read_pickle(\"./name.pkl\")\n",
    "geodf1 = pd.read_pickle(\"./name1.pkl\")\n",
    "geodf2 = pd.read_pickle(\"./name2.pkl\")\n",
    "\n",
    "# once you run this line of code you will have all the previuos df\n",
    "# loaded into the new notebook"
   ]
  },
  {
   "cell_type": "code",
   "execution_count": null,
   "metadata": {},
   "outputs": [],
   "source": [
    "# you should now be able to read the df w/t reading csv's of shapefile!\n",
    "#if the data is large this should save a lot of time in loading the data \n",
    "df.head()"
   ]
  },
  {
   "cell_type": "code",
   "execution_count": null,
   "metadata": {},
   "outputs": [],
   "source": [
    "df.columns()"
   ]
  },
  {
   "cell_type": "markdown",
   "metadata": {},
   "source": [
    "## Data descriptives\n",
    "\n",
    "Getting count, mean, std, min, max and 25%,50%, 75% \n"
   ]
  },
  {
   "cell_type": "code",
   "execution_count": null,
   "metadata": {},
   "outputs": [],
   "source": [
    "df.describe()"
   ]
  },
  {
   "cell_type": "code",
   "execution_count": null,
   "metadata": {},
   "outputs": [],
   "source": [
    "#get column mean: \n",
    "\n",
    "df.[\"column\"].mean()"
   ]
  },
  {
   "cell_type": "markdown",
   "metadata": {},
   "source": [
    "## merge, group by, spatial joins.. "
   ]
  },
  {
   "cell_type": "code",
   "execution_count": null,
   "metadata": {},
   "outputs": [],
   "source": [
    "# merge 2 data frames \n",
    "df_merged = geodf1.merge(df, on='mutual_column')"
   ]
  },
  {
   "cell_type": "markdown",
   "metadata": {},
   "source": [
    "### sjoin docomentation: \n",
    "- (we haven't covered that in class, happy to work with groups that want to try this out )\n",
    "- https://geopandas.org/reference/geopandas.sjoin.html"
   ]
  },
  {
   "cell_type": "markdown",
   "metadata": {},
   "source": [
    "### Hierarchical data:\n",
    "\n",
    "https://github.com/avigailvantu/c4sue/blob/master/tutorials/class_12/Class_12_outputs.ipynb"
   ]
  },
  {
   "cell_type": "markdown",
   "metadata": {},
   "source": [
    "## create new columns based on conditions: "
   ]
  },
  {
   "cell_type": "code",
   "execution_count": null,
   "metadata": {},
   "outputs": [],
   "source": [
    "df_merged['pop_density'] = df_merged['pop']/df['area']"
   ]
  },
  {
   "cell_type": "code",
   "execution_count": null,
   "metadata": {},
   "outputs": [],
   "source": [
    "df_merged['per_spanish_speaker'] = (df_merged['number_spanish_speaker']/df_merged['total_pop'])*100\n",
    "\n"
   ]
  },
  {
   "cell_type": "markdown",
   "metadata": {},
   "source": [
    "# wrap up analysis \n",
    "\n",
    "You may want to export or pickle new dataframes you created in this step.\n",
    "If you do so, don't forget to keep track of it on your project README.md file"
   ]
  },
  {
   "cell_type": "code",
   "execution_count": null,
   "metadata": {},
   "outputs": [],
   "source": [
    "import pickle\n",
    "df_merged.to_pickle(\"./merged.pkl\")"
   ]
  }
 ],
 "metadata": {
  "kernelspec": {
   "display_name": "Python 3",
   "language": "python",
   "name": "python3"
  },
  "language_info": {
   "codemirror_mode": {
    "name": "ipython",
    "version": 3
   },
   "file_extension": ".py",
   "mimetype": "text/x-python",
   "name": "python",
   "nbconvert_exporter": "python",
   "pygments_lexer": "ipython3",
   "version": "3.7.6"
  }
 },
 "nbformat": 4,
 "nbformat_minor": 4
}
