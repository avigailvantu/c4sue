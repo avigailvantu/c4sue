{
 "cells": [
  {
   "cell_type": "markdown",
   "metadata": {},
   "source": [
    "# Class 11: part 2 \n",
    "\n",
    "NYU Tandon C4SUE @avigailvantu , April 2020\n",
    "\n",
    "## Polygons, merging, more mapping features, and creating choropleth maps \n",
    "\n",
    "In this notebook we will be back to working with the NYT COVID-19 data that we worked with in the past few classes. "
   ]
  },
  {
   "cell_type": "code",
   "execution_count": null,
   "metadata": {},
   "outputs": [],
   "source": [
    "import pandas as pd\n",
    "import geopandas as gpd\n",
    "import numpy as np\n",
    "%matplotlib inline \n",
    "\n",
    "import matplotlib.pyplot as plt\n",
    "from shapely.geometry import Point\n",
    "from geopandas import GeoDataFrame\n",
    "from shapely.geometry import MultiPolygon\n"
   ]
  },
  {
   "cell_type": "markdown",
   "metadata": {},
   "source": [
    "## States boundries from the Census Buraeu \n",
    "\n",
    "Can be accessed here: \n",
    "\n",
    "https://www.census.gov/geographies/mapping-files/time-series/geo/carto-boundary-file.html"
   ]
  },
  {
   "cell_type": "code",
   "execution_count": null,
   "metadata": {},
   "outputs": [],
   "source": [
    "#load geodataframe\n",
    "states = gpd.read_file('cb_2018_us_state_500k')"
   ]
  },
  {
   "cell_type": "code",
   "execution_count": null,
   "metadata": {},
   "outputs": [],
   "source": [
    "states.head() "
   ]
  },
  {
   "cell_type": "code",
   "execution_count": null,
   "metadata": {},
   "outputs": [],
   "source": [
    "states.plot( color='red',legend=True,figsize=(30, 12),markersize=0.1)\n",
    "plt.axis('off')\n",
    "plt.show()"
   ]
  },
  {
   "cell_type": "code",
   "execution_count": null,
   "metadata": {},
   "outputs": [],
   "source": [
    "states.plot( column='NAME',legend=False,figsize=(40, 10),markersize=0.1)\n",
    "plt.axis('off')\n",
    "plt.show()"
   ]
  },
  {
   "cell_type": "markdown",
   "metadata": {},
   "source": [
    "## COVID-19 data from the NYT \n",
    "\n",
    "my data is up to date as of April 18th \n",
    "\n",
    "https://github.com/nytimes/covid-19-data"
   ]
  },
  {
   "cell_type": "code",
   "execution_count": null,
   "metadata": {},
   "outputs": [],
   "source": [
    "#Load data\n",
    "\n",
    "covidUS = pd.read_csv('us-states.csv')"
   ]
  },
  {
   "cell_type": "code",
   "execution_count": null,
   "metadata": {},
   "outputs": [],
   "source": [
    "covidUS.shape"
   ]
  },
  {
   "cell_type": "code",
   "execution_count": null,
   "metadata": {},
   "outputs": [],
   "source": [
    "#let's see the data  \n",
    "\n",
    "covidUS.head()"
   ]
  },
  {
   "cell_type": "code",
   "execution_count": null,
   "metadata": {},
   "outputs": [],
   "source": [
    "covidUS.tail()"
   ]
  },
  {
   "cell_type": "markdown",
   "metadata": {},
   "source": [
    "# Create a DataFrame for April 18th, the last day in data"
   ]
  },
  {
   "cell_type": "code",
   "execution_count": null,
   "metadata": {},
   "outputs": [],
   "source": [
    "#filter as of the last day in the data\n",
    "\n",
    "april18 = covidUS[covidUS['date']== '2020-04-18']"
   ]
  },
  {
   "cell_type": "code",
   "execution_count": null,
   "metadata": {},
   "outputs": [],
   "source": [
    "#check out the new filtered data\n",
    "april18.head(20)"
   ]
  },
  {
   "cell_type": "markdown",
   "metadata": {},
   "source": [
    "# Time to merge data: \n",
    "\n",
    "We will merge data so that we are able to have the covid-19 data merged with the US countries boundries. \n",
    "\n",
    "The merge function works the same for DataFrame and GeoDataFrames. Basically, it joins two datasets based on a mutual attribute (column). Because our data is state based, we will merge based on that column. In geographical data, we will join the data without geogrpahical attirbutes (covid 19 for us), into the layer with the geomtery column (state shapfile). \n",
    "\n",
    "\n",
    "    "
   ]
  },
  {
   "cell_type": "code",
   "execution_count": null,
   "metadata": {},
   "outputs": [],
   "source": [
    "#copy state column as a prep for merging datasets --> both need to be the same name\n",
    "states['state'] = states['NAME']"
   ]
  },
  {
   "cell_type": "code",
   "execution_count": null,
   "metadata": {},
   "outputs": [],
   "source": [
    "# time to merge: \n",
    "\n",
    "states = states.merge(april18, on='state')"
   ]
  },
  {
   "cell_type": "code",
   "execution_count": null,
   "metadata": {},
   "outputs": [],
   "source": [
    "#Check out merged data:\n",
    "\n",
    "states.head()"
   ]
  },
  {
   "cell_type": "code",
   "execution_count": null,
   "metadata": {},
   "outputs": [],
   "source": []
  },
  {
   "cell_type": "markdown",
   "metadata": {},
   "source": [
    "## Visualize the merged data: \n",
    "\n"
   ]
  },
  {
   "cell_type": "code",
   "execution_count": null,
   "metadata": {},
   "outputs": [],
   "source": [
    "states.plot(column='cases',figsize=(30, 10),cmap='PuRd')\n",
    "\n",
    "plt.title('cases')\n",
    "plt.show()"
   ]
  },
  {
   "cell_type": "markdown",
   "metadata": {},
   "source": [
    "\n",
    "## Set a map x and y range\n",
    "\n",
    "Often the deafult of the map that will be plotted will not show the map in its ideal range. For example: \n"
   ]
  },
  {
   "cell_type": "code",
   "execution_count": null,
   "metadata": {},
   "outputs": [],
   "source": [
    "states.plot(column='cases',figsize=(60, 10),cmap='PuRd')\n",
    "\n",
    "plt.title('cases by state')\n",
    "plt.ylim((23,50))\n",
    "plt.xlim((-130,-66))\n",
    "plt.show()"
   ]
  },
  {
   "cell_type": "markdown",
   "metadata": {},
   "source": [
    "## And final touches-->\n",
    "\n",
    "- remove axis, \n",
    "- adjust title + its size & color \n",
    "- add legend\n"
   ]
  },
  {
   "cell_type": "code",
   "execution_count": null,
   "metadata": {},
   "outputs": [],
   "source": [
    "states.plot(column='cases',legend=True, figsize=(60, 10),cmap='PuRd')\n",
    "plt.axis('off')\n",
    "plt.title('COVID-19 cases by state as of April 18th', fontsize=23, color ='purple')\n",
    "plt.ylim((23,50))\n",
    "plt.xlim((-130,-66))\n",
    "plt.show()"
   ]
  },
  {
   "cell_type": "markdown",
   "metadata": {},
   "source": [
    "# Le'ts zoom into the the tri-state area \n",
    "\n",
    "To do so first let's plot the axis again so we can see the range of the coordinates we want to zoom into."
   ]
  },
  {
   "cell_type": "code",
   "execution_count": null,
   "metadata": {},
   "outputs": [],
   "source": [
    "states.plot(column='cases',legend=True, figsize=(60, 10),cmap='PuRd')\n",
    "#plt.axis('off')\n",
    "plt.title('COVID-19 cases by state as of April 18th', fontsize=23, color ='purple')\n",
    "#this is the y range\n",
    "plt.ylim((23,50))\n",
    "#this is the x range \n",
    "plt.xlim((-130,-66))\n",
    "plt.show()"
   ]
  },
  {
   "cell_type": "code",
   "execution_count": null,
   "metadata": {},
   "outputs": [],
   "source": [
    "states.plot(column='cases',legend=True, figsize=(60, 10),cmap='PuRd')\n",
    "#plt.axis('off')\n",
    "plt.title('Tri-state area covid-19', fontsize=23, color ='purple')\n",
    "plt.ylim((35,50))\n",
    "plt.xlim((-80,-66))\n",
    "plt.show()"
   ]
  },
  {
   "cell_type": "markdown",
   "metadata": {},
   "source": [
    "# Now We Plot Multiple Plots Side-By-Side "
   ]
  },
  {
   "cell_type": "code",
   "execution_count": null,
   "metadata": {},
   "outputs": [],
   "source": [
    "#1.tri-state area \n",
    "ax1 = states.plot(column='cases',legend=True, figsize=(60, 10),cmap='summer') \n",
    "plt.title('Tri-state area covid-19', fontsize=23, color ='green')\n",
    "plt.ylim((35,50))\n",
    "plt.xlim((-80,-66))\n",
    "plt.show()\n",
    "\n",
    "#2. west coast \n",
    "ax2 = states.plot(column='cases', figsize=(60, 10),cmap='summer')\n",
    "plt.title('West Coast COVID-19', fontsize=23, color ='green')\n",
    "plt.ylim((28,50))\n",
    "plt.xlim((-125,-110))\n",
    "plt.show()\n",
    "\n"
   ]
  },
  {
   "cell_type": "markdown",
   "metadata": {},
   "source": [
    "# Task 1: \n",
    "\n",
    "Can you plot 2 plots of the deaths in the us:\n",
    "1. For March 3rd, 2020\n",
    "2. For April 18th, 2020 \n",
    "\n",
    "* What are some of the trends you found? \n",
    "\n",
    "# Task 2: \n",
    "\n",
    "Shifting to working with the NYS data.\n",
    "\n",
    "In the past few days we heard Gov. Andrew M. Cuomo of New York, saying cases are going down and that the state is over the peak of COVID-19. Looking into the data for New York State only-- do you agree or disagree? How did the data \n",
    "1. filter the data so you only have data for NYS. \n",
    "2. create plots/maps and tables to help you understand the trends \n",
    "3. consider using the rolling mean to help you understand the \n",
    "\n",
    "Hint: look into class 8 materials for some useful code on filtering & re-arranging the data. \n",
    "Remember to calculate the number of new cases *per day* to understand recent trends. \n",
    "\n",
    "# Optional: Task 3: \n",
    "\n",
    "1. Looking futhre into the NYS cases are we seeing the same trends for both deaths and cases? \n",
    "2. If different patterns--why do you think we are seeing these diffrences? "
   ]
  },
  {
   "cell_type": "code",
   "execution_count": null,
   "metadata": {},
   "outputs": [],
   "source": []
  }
 ],
 "metadata": {
  "kernelspec": {
   "display_name": "Python 3",
   "language": "python",
   "name": "python3"
  },
  "language_info": {
   "codemirror_mode": {
    "name": "ipython",
    "version": 3
   },
   "file_extension": ".py",
   "mimetype": "text/x-python",
   "name": "python",
   "nbconvert_exporter": "python",
   "pygments_lexer": "ipython3",
   "version": "3.7.4"
  }
 },
 "nbformat": 4,
 "nbformat_minor": 4
}
