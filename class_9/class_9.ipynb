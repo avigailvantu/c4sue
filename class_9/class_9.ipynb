{
 "cells": [
  {
   "cell_type": "markdown",
   "metadata": {},
   "source": [
    "# Class 9 \n",
    "\n",
    "# More Pandas 🤗 : \n",
    "\n",
    "# Time Series \n",
    "\n",
    "As we talked about during last week’s class Pandas is a very rich package that enables us to conduct many types of analysis, wrangling and visualizations. Working with data, formats like CSV’s , Geojsons and Shapefiles is made easy and so much less intimidating by the use of a few pretty simple command lines! \n",
    "\n",
    "Last week we have seen that functions like summarizing, describing as well as making changes in the initial data are very straight forward in Pandas.\n",
    "\n",
    "Today, we will learn how to use more Pandas' functionalities. We will use these in conjunction with other packages as well as with other Pandas functionalists we used last week. Acknowledging that things are intertwined, in the next few weeks we will build our knowledge of working with different Python packages. We will also use more and more functionalities and commands with time while also using the simple functions. This method will hopefully help us build strong data analytics programming knowledge that you can use in your future academic studies and careers 📊📈"
   ]
  },
  {
   "cell_type": "code",
   "execution_count": 68,
   "metadata": {},
   "outputs": [],
   "source": [
    "#runing packages \n",
    "import pandas as pd #<-- we know this one \n",
    "import numpy as np\n",
    "import matplotlib #<-- for viz\n",
    "import matplotlib.pyplot as plt#<-- for viz\n",
    "from datetime import datetime #<-- note this one is for our time series analysis \n",
    "import seaborn as sns "
   ]
  },
  {
   "cell_type": "markdown",
   "metadata": {},
   "source": [
    "Note about data choice: this class and last class I decided to focus on working on COVID-19 data. As we are in the middle of this difficult period I am hopping that working with relevant data would be a good way to learn data analysis tools, as well as to gain information on the ongoing situation. I am happy to adjust to other topics, please feel free to provide feedback at any time!"
   ]
  },
  {
   "cell_type": "markdown",
   "metadata": {},
   "source": [
    "### Data: \n",
    "\n",
    "Today we will work with a world wide data about COVID-19 from \"Our World in Data: https://ourworldindata.org\n",
    " "
   ]
  },
  {
   "cell_type": "code",
   "execution_count": 69,
   "metadata": {},
   "outputs": [],
   "source": [
    "#first load all cases csv: \n",
    "\n",
    "all_cases = pd.read_csv('total_cases.csv')"
   ]
  },
  {
   "cell_type": "code",
   "execution_count": 70,
   "metadata": {},
   "outputs": [
    {
     "data": {
      "text/html": [
       "<div>\n",
       "<style scoped>\n",
       "    .dataframe tbody tr th:only-of-type {\n",
       "        vertical-align: middle;\n",
       "    }\n",
       "\n",
       "    .dataframe tbody tr th {\n",
       "        vertical-align: top;\n",
       "    }\n",
       "\n",
       "    .dataframe thead th {\n",
       "        text-align: right;\n",
       "    }\n",
       "</style>\n",
       "<table border=\"1\" class=\"dataframe\">\n",
       "  <thead>\n",
       "    <tr style=\"text-align: right;\">\n",
       "      <th></th>\n",
       "      <th>date</th>\n",
       "      <th>World</th>\n",
       "      <th>Afghanistan</th>\n",
       "      <th>Albania</th>\n",
       "      <th>Algeria</th>\n",
       "      <th>Andorra</th>\n",
       "      <th>Angola</th>\n",
       "      <th>Anguilla</th>\n",
       "      <th>Antigua and Barbuda</th>\n",
       "      <th>Argentina</th>\n",
       "      <th>...</th>\n",
       "      <th>United Kingdom</th>\n",
       "      <th>United States</th>\n",
       "      <th>United States Virgin Islands</th>\n",
       "      <th>Uruguay</th>\n",
       "      <th>Uzbekistan</th>\n",
       "      <th>Vatican</th>\n",
       "      <th>Venezuela</th>\n",
       "      <th>Vietnam</th>\n",
       "      <th>Zambia</th>\n",
       "      <th>Zimbabwe</th>\n",
       "    </tr>\n",
       "  </thead>\n",
       "  <tbody>\n",
       "    <tr>\n",
       "      <th>90</th>\n",
       "      <td>2020-03-30</td>\n",
       "      <td>715353</td>\n",
       "      <td>114.0</td>\n",
       "      <td>212.0</td>\n",
       "      <td>454.0</td>\n",
       "      <td>334.0</td>\n",
       "      <td>7.0</td>\n",
       "      <td>2.0</td>\n",
       "      <td>7.0</td>\n",
       "      <td>820.0</td>\n",
       "      <td>...</td>\n",
       "      <td>19522</td>\n",
       "      <td>143025</td>\n",
       "      <td>30.0</td>\n",
       "      <td>309.0</td>\n",
       "      <td>145.0</td>\n",
       "      <td>6.0</td>\n",
       "      <td>119.0</td>\n",
       "      <td>228.0</td>\n",
       "      <td>29.0</td>\n",
       "      <td>7.0</td>\n",
       "    </tr>\n",
       "    <tr>\n",
       "      <th>91</th>\n",
       "      <td>2020-03-31</td>\n",
       "      <td>777796</td>\n",
       "      <td>141.0</td>\n",
       "      <td>223.0</td>\n",
       "      <td>511.0</td>\n",
       "      <td>370.0</td>\n",
       "      <td>7.0</td>\n",
       "      <td>2.0</td>\n",
       "      <td>7.0</td>\n",
       "      <td>966.0</td>\n",
       "      <td>...</td>\n",
       "      <td>22141</td>\n",
       "      <td>164620</td>\n",
       "      <td>NaN</td>\n",
       "      <td>320.0</td>\n",
       "      <td>149.0</td>\n",
       "      <td>6.0</td>\n",
       "      <td>135.0</td>\n",
       "      <td>229.0</td>\n",
       "      <td>35.0</td>\n",
       "      <td>7.0</td>\n",
       "    </tr>\n",
       "    <tr>\n",
       "      <th>92</th>\n",
       "      <td>2020-04-01</td>\n",
       "      <td>851308</td>\n",
       "      <td>166.0</td>\n",
       "      <td>243.0</td>\n",
       "      <td>584.0</td>\n",
       "      <td>376.0</td>\n",
       "      <td>7.0</td>\n",
       "      <td>2.0</td>\n",
       "      <td>7.0</td>\n",
       "      <td>966.0</td>\n",
       "      <td>...</td>\n",
       "      <td>25150</td>\n",
       "      <td>189618</td>\n",
       "      <td>30.0</td>\n",
       "      <td>338.0</td>\n",
       "      <td>173.0</td>\n",
       "      <td>6.0</td>\n",
       "      <td>135.0</td>\n",
       "      <td>229.0</td>\n",
       "      <td>35.0</td>\n",
       "      <td>8.0</td>\n",
       "    </tr>\n",
       "    <tr>\n",
       "      <th>93</th>\n",
       "      <td>2020-04-02</td>\n",
       "      <td>928436</td>\n",
       "      <td>192.0</td>\n",
       "      <td>259.0</td>\n",
       "      <td>847.0</td>\n",
       "      <td>390.0</td>\n",
       "      <td>8.0</td>\n",
       "      <td>2.0</td>\n",
       "      <td>7.0</td>\n",
       "      <td>1133.0</td>\n",
       "      <td>...</td>\n",
       "      <td>29474</td>\n",
       "      <td>216721</td>\n",
       "      <td>30.0</td>\n",
       "      <td>338.0</td>\n",
       "      <td>187.0</td>\n",
       "      <td>6.0</td>\n",
       "      <td>143.0</td>\n",
       "      <td>235.0</td>\n",
       "      <td>36.0</td>\n",
       "      <td>8.0</td>\n",
       "    </tr>\n",
       "    <tr>\n",
       "      <th>94</th>\n",
       "      <td>2020-04-03</td>\n",
       "      <td>1000249</td>\n",
       "      <td>235.0</td>\n",
       "      <td>277.0</td>\n",
       "      <td>847.0</td>\n",
       "      <td>428.0</td>\n",
       "      <td>8.0</td>\n",
       "      <td>3.0</td>\n",
       "      <td>9.0</td>\n",
       "      <td>1133.0</td>\n",
       "      <td>...</td>\n",
       "      <td>33718</td>\n",
       "      <td>245540</td>\n",
       "      <td>33.0</td>\n",
       "      <td>369.0</td>\n",
       "      <td>190.0</td>\n",
       "      <td>6.0</td>\n",
       "      <td>144.0</td>\n",
       "      <td>239.0</td>\n",
       "      <td>39.0</td>\n",
       "      <td>8.0</td>\n",
       "    </tr>\n",
       "  </tbody>\n",
       "</table>\n",
       "<p>5 rows × 205 columns</p>\n",
       "</div>"
      ],
      "text/plain": [
       "          date    World  Afghanistan  Albania  Algeria  Andorra  Angola  \\\n",
       "90  2020-03-30   715353        114.0    212.0    454.0    334.0     7.0   \n",
       "91  2020-03-31   777796        141.0    223.0    511.0    370.0     7.0   \n",
       "92  2020-04-01   851308        166.0    243.0    584.0    376.0     7.0   \n",
       "93  2020-04-02   928436        192.0    259.0    847.0    390.0     8.0   \n",
       "94  2020-04-03  1000249        235.0    277.0    847.0    428.0     8.0   \n",
       "\n",
       "    Anguilla  Antigua and Barbuda  Argentina  ...  United Kingdom  \\\n",
       "90       2.0                  7.0      820.0  ...           19522   \n",
       "91       2.0                  7.0      966.0  ...           22141   \n",
       "92       2.0                  7.0      966.0  ...           25150   \n",
       "93       2.0                  7.0     1133.0  ...           29474   \n",
       "94       3.0                  9.0     1133.0  ...           33718   \n",
       "\n",
       "    United States  United States Virgin Islands  Uruguay  Uzbekistan  Vatican  \\\n",
       "90         143025                          30.0    309.0       145.0      6.0   \n",
       "91         164620                           NaN    320.0       149.0      6.0   \n",
       "92         189618                          30.0    338.0       173.0      6.0   \n",
       "93         216721                          30.0    338.0       187.0      6.0   \n",
       "94         245540                          33.0    369.0       190.0      6.0   \n",
       "\n",
       "    Venezuela  Vietnam  Zambia  Zimbabwe  \n",
       "90      119.0    228.0    29.0       7.0  \n",
       "91      135.0    229.0    35.0       7.0  \n",
       "92      135.0    229.0    35.0       8.0  \n",
       "93      143.0    235.0    36.0       8.0  \n",
       "94      144.0    239.0    39.0       8.0  \n",
       "\n",
       "[5 rows x 205 columns]"
      ]
     },
     "execution_count": 70,
     "metadata": {},
     "output_type": "execute_result"
    }
   ],
   "source": [
    "# let's get some basic info: \n",
    "all_cases.tail()"
   ]
  },
  {
   "cell_type": "code",
   "execution_count": 71,
   "metadata": {},
   "outputs": [
    {
     "data": {
      "text/plain": [
       "(95, 205)"
      ]
     },
     "execution_count": 71,
     "metadata": {},
     "output_type": "execute_result"
    }
   ],
   "source": [
    "all_cases.shape\n"
   ]
  },
  {
   "cell_type": "markdown",
   "metadata": {},
   "source": [
    "There are 95 rows (days) and rows, which are 205 countries in total "
   ]
  },
  {
   "cell_type": "markdown",
   "metadata": {},
   "source": [
    "## Task 1: \n",
    "    \n",
    " What is the total number of cases in:\n",
    " - Argentina\n",
    " - United Kindom \n",
    " - Italy \n",
    " - Spain \n",
    " - United States\n",
    "  \n",
    "   \n",
    "   Hint: remember that the last day in this data is April 3rd 2020 and that the data is accumlated day by day"
   ]
  },
  {
   "cell_type": "code",
   "execution_count": 72,
   "metadata": {},
   "outputs": [],
   "source": [
    "#your code here: \n",
    "#Option 1:\n",
    "# you can slice the data to only look at April 3rd: \n",
    "april3rd = all_cases[all_cases['date']=='2020-04-03'] \n",
    "#and then manually scroll. \n",
    "\n",
    "# However because there are so many columns (==countries) in the data this might not enable us to view all the needed countries. \n",
    "\n"
   ]
  },
  {
   "cell_type": "code",
   "execution_count": 73,
   "metadata": {},
   "outputs": [],
   "source": [
    "#Option 2: \n",
    "\n",
    "#Because the data is accumulated day-by-day, \n",
    "#if you look for the Max value in each of the countries’ column you will find the data for April 3rd for this specific country. "
   ]
  },
  {
   "cell_type": "code",
   "execution_count": 74,
   "metadata": {},
   "outputs": [
    {
     "data": {
      "text/plain": [
       "1133.0"
      ]
     },
     "execution_count": 74,
     "metadata": {},
     "output_type": "execute_result"
    }
   ],
   "source": [
    "all_cases['Argentina'].max()"
   ]
  },
  {
   "cell_type": "code",
   "execution_count": 75,
   "metadata": {},
   "outputs": [
    {
     "data": {
      "text/plain": [
       "33718"
      ]
     },
     "execution_count": 75,
     "metadata": {},
     "output_type": "execute_result"
    }
   ],
   "source": [
    "all_cases['United Kingdom'].max()"
   ]
  },
  {
   "cell_type": "code",
   "execution_count": 76,
   "metadata": {},
   "outputs": [
    {
     "data": {
      "text/plain": [
       "115242"
      ]
     },
     "execution_count": 76,
     "metadata": {},
     "output_type": "execute_result"
    }
   ],
   "source": [
    "all_cases['Italy'].max()"
   ]
  },
  {
   "cell_type": "code",
   "execution_count": 77,
   "metadata": {},
   "outputs": [
    {
     "data": {
      "text/plain": [
       "110238"
      ]
     },
     "execution_count": 77,
     "metadata": {},
     "output_type": "execute_result"
    }
   ],
   "source": [
    "all_cases['Spain'].max()"
   ]
  },
  {
   "cell_type": "code",
   "execution_count": 78,
   "metadata": {},
   "outputs": [
    {
     "data": {
      "text/plain": [
       "245540"
      ]
     },
     "execution_count": 78,
     "metadata": {},
     "output_type": "execute_result"
    }
   ],
   "source": [
    "all_cases['United States'].max()"
   ]
  },
  {
   "cell_type": "code",
   "execution_count": null,
   "metadata": {},
   "outputs": [],
   "source": []
  },
  {
   "cell_type": "code",
   "execution_count": 79,
   "metadata": {},
   "outputs": [],
   "source": [
    "# transpose the data:\n",
    "april3T = april3rd.T\n",
    "# april3T[4:10]"
   ]
  },
  {
   "cell_type": "code",
   "execution_count": 80,
   "metadata": {},
   "outputs": [
    {
     "data": {
      "text/html": [
       "<div>\n",
       "<style scoped>\n",
       "    .dataframe tbody tr th:only-of-type {\n",
       "        vertical-align: middle;\n",
       "    }\n",
       "\n",
       "    .dataframe tbody tr th {\n",
       "        vertical-align: top;\n",
       "    }\n",
       "\n",
       "    .dataframe thead th {\n",
       "        text-align: right;\n",
       "    }\n",
       "</style>\n",
       "<table border=\"1\" class=\"dataframe\">\n",
       "  <thead>\n",
       "    <tr style=\"text-align: right;\">\n",
       "      <th></th>\n",
       "      <th>94</th>\n",
       "    </tr>\n",
       "  </thead>\n",
       "  <tbody>\n",
       "    <tr>\n",
       "      <th>date</th>\n",
       "      <td>2020-04-03</td>\n",
       "    </tr>\n",
       "    <tr>\n",
       "      <th>World</th>\n",
       "      <td>1000249</td>\n",
       "    </tr>\n",
       "    <tr>\n",
       "      <th>Afghanistan</th>\n",
       "      <td>235</td>\n",
       "    </tr>\n",
       "    <tr>\n",
       "      <th>Albania</th>\n",
       "      <td>277</td>\n",
       "    </tr>\n",
       "    <tr>\n",
       "      <th>Algeria</th>\n",
       "      <td>847</td>\n",
       "    </tr>\n",
       "    <tr>\n",
       "      <th>...</th>\n",
       "      <td>...</td>\n",
       "    </tr>\n",
       "    <tr>\n",
       "      <th>Vatican</th>\n",
       "      <td>6</td>\n",
       "    </tr>\n",
       "    <tr>\n",
       "      <th>Venezuela</th>\n",
       "      <td>144</td>\n",
       "    </tr>\n",
       "    <tr>\n",
       "      <th>Vietnam</th>\n",
       "      <td>239</td>\n",
       "    </tr>\n",
       "    <tr>\n",
       "      <th>Zambia</th>\n",
       "      <td>39</td>\n",
       "    </tr>\n",
       "    <tr>\n",
       "      <th>Zimbabwe</th>\n",
       "      <td>8</td>\n",
       "    </tr>\n",
       "  </tbody>\n",
       "</table>\n",
       "<p>205 rows × 1 columns</p>\n",
       "</div>"
      ],
      "text/plain": [
       "                     94\n",
       "date         2020-04-03\n",
       "World           1000249\n",
       "Afghanistan         235\n",
       "Albania             277\n",
       "Algeria             847\n",
       "...                 ...\n",
       "Vatican               6\n",
       "Venezuela           144\n",
       "Vietnam             239\n",
       "Zambia               39\n",
       "Zimbabwe              8\n",
       "\n",
       "[205 rows x 1 columns]"
      ]
     },
     "execution_count": 80,
     "metadata": {},
     "output_type": "execute_result"
    }
   ],
   "source": [
    "april3T"
   ]
  },
  {
   "cell_type": "markdown",
   "metadata": {},
   "source": [
    "\n",
    "### Now let's create some visualizations "
   ]
  },
  {
   "cell_type": "code",
   "execution_count": 81,
   "metadata": {},
   "outputs": [
    {
     "data": {
      "image/png": "[encoded data removed]",
      "text/plain": [
       "<Figure size 792x288 with 1 Axes>"
      ]
     },
     "metadata": {},
     "output_type": "display_data"
    }
   ],
   "source": [
    "#first let's start with an overall world trend\n",
    "sns.set(rc={'figure.figsize':(11, 4)})\n",
    "all_cases['World'].plot(linewidth=0.5);"
   ]
  },
  {
   "cell_type": "code",
   "execution_count": 82,
   "metadata": {},
   "outputs": [
    {
     "data": {
      "image/png": "[encoded data removed]",
      "text/plain": [
       "<Figure size 720x576 with 1 Axes>"
      ]
     },
     "metadata": {},
     "output_type": "display_data"
    }
   ],
   "source": [
    "#set the figure size\n",
    "sns.set(rc={'figure.figsize':(10, 8)})\n",
    "#visualize countries:\n",
    "all_cases['Italy'].plot(linewidth=1);\n",
    "all_cases['United States'].plot(linewidth=1);\n",
    "all_cases['Spain'].plot(linewidth=1);\n",
    "all_cases['France'].plot(linewidth=1);\n",
    "all_cases['United Kingdom'].plot(linewidth=1);\n",
    "all_cases['China'].plot(linewidth=1);\n",
    "all_cases['Iran'].plot(linewidth=1);\n",
    "all_cases['Israel'].plot(linewidth=1);\n",
    "all_cases['Canada'].plot(linewidth=1);\n",
    "\n",
    "\n",
    "#add legend:\n",
    "plt.legend(loc=\"upper left\")\n",
    "\n",
    "#remove the grid and axis \n",
    "plt.axis('off')\n",
    "\n",
    "#add title\n",
    "plt.title('COVID-19 Total number of cases in 10 countries')\n",
    "\n",
    "plt.show()"
   ]
  },
  {
   "cell_type": "markdown",
   "metadata": {},
   "source": [
    "# Time Series \n",
    "\n",
    "Time series data is a useful form of data for many fields like climate change, finance, and urban informatics as well as many many others! The importance of time series data stems from the value that comes from understanding how things change over time. This temporal dimension means we need to have data that appears in *regular* intervals in order to treat it as time series. In the age of big data we often see data that is recorded (usually by sensors) in very small intervals, every second or every minute. By being able to conduct time series analysis we can smooth the data and understand it on a higher level. \n",
    "\n",
    "\n",
    "To get started with we will first look for the a time stamp in our data. In our data, as well as others the *data* column will be the one to look into. "
   ]
  },
  {
   "cell_type": "code",
   "execution_count": 83,
   "metadata": {},
   "outputs": [
    {
     "data": {
      "text/html": [
       "<div>\n",
       "<style scoped>\n",
       "    .dataframe tbody tr th:only-of-type {\n",
       "        vertical-align: middle;\n",
       "    }\n",
       "\n",
       "    .dataframe tbody tr th {\n",
       "        vertical-align: top;\n",
       "    }\n",
       "\n",
       "    .dataframe thead th {\n",
       "        text-align: right;\n",
       "    }\n",
       "</style>\n",
       "<table border=\"1\" class=\"dataframe\">\n",
       "  <thead>\n",
       "    <tr style=\"text-align: right;\">\n",
       "      <th></th>\n",
       "      <th>date</th>\n",
       "      <th>World</th>\n",
       "      <th>Afghanistan</th>\n",
       "      <th>Albania</th>\n",
       "      <th>Algeria</th>\n",
       "      <th>Andorra</th>\n",
       "      <th>Angola</th>\n",
       "      <th>Anguilla</th>\n",
       "      <th>Antigua and Barbuda</th>\n",
       "      <th>Argentina</th>\n",
       "      <th>...</th>\n",
       "      <th>United Kingdom</th>\n",
       "      <th>United States</th>\n",
       "      <th>United States Virgin Islands</th>\n",
       "      <th>Uruguay</th>\n",
       "      <th>Uzbekistan</th>\n",
       "      <th>Vatican</th>\n",
       "      <th>Venezuela</th>\n",
       "      <th>Vietnam</th>\n",
       "      <th>Zambia</th>\n",
       "      <th>Zimbabwe</th>\n",
       "    </tr>\n",
       "  </thead>\n",
       "  <tbody>\n",
       "    <tr>\n",
       "      <th>0</th>\n",
       "      <td>2019-12-31</td>\n",
       "      <td>27</td>\n",
       "      <td>0.0</td>\n",
       "      <td>NaN</td>\n",
       "      <td>0.0</td>\n",
       "      <td>NaN</td>\n",
       "      <td>NaN</td>\n",
       "      <td>NaN</td>\n",
       "      <td>NaN</td>\n",
       "      <td>NaN</td>\n",
       "      <td>...</td>\n",
       "      <td>0</td>\n",
       "      <td>0</td>\n",
       "      <td>NaN</td>\n",
       "      <td>NaN</td>\n",
       "      <td>NaN</td>\n",
       "      <td>NaN</td>\n",
       "      <td>NaN</td>\n",
       "      <td>0.0</td>\n",
       "      <td>NaN</td>\n",
       "      <td>NaN</td>\n",
       "    </tr>\n",
       "    <tr>\n",
       "      <th>1</th>\n",
       "      <td>2020-01-01</td>\n",
       "      <td>27</td>\n",
       "      <td>0.0</td>\n",
       "      <td>NaN</td>\n",
       "      <td>0.0</td>\n",
       "      <td>NaN</td>\n",
       "      <td>NaN</td>\n",
       "      <td>NaN</td>\n",
       "      <td>NaN</td>\n",
       "      <td>NaN</td>\n",
       "      <td>...</td>\n",
       "      <td>0</td>\n",
       "      <td>0</td>\n",
       "      <td>NaN</td>\n",
       "      <td>NaN</td>\n",
       "      <td>NaN</td>\n",
       "      <td>NaN</td>\n",
       "      <td>NaN</td>\n",
       "      <td>0.0</td>\n",
       "      <td>NaN</td>\n",
       "      <td>NaN</td>\n",
       "    </tr>\n",
       "    <tr>\n",
       "      <th>2</th>\n",
       "      <td>2020-01-02</td>\n",
       "      <td>27</td>\n",
       "      <td>0.0</td>\n",
       "      <td>NaN</td>\n",
       "      <td>0.0</td>\n",
       "      <td>NaN</td>\n",
       "      <td>NaN</td>\n",
       "      <td>NaN</td>\n",
       "      <td>NaN</td>\n",
       "      <td>NaN</td>\n",
       "      <td>...</td>\n",
       "      <td>0</td>\n",
       "      <td>0</td>\n",
       "      <td>NaN</td>\n",
       "      <td>NaN</td>\n",
       "      <td>NaN</td>\n",
       "      <td>NaN</td>\n",
       "      <td>NaN</td>\n",
       "      <td>0.0</td>\n",
       "      <td>NaN</td>\n",
       "      <td>NaN</td>\n",
       "    </tr>\n",
       "    <tr>\n",
       "      <th>3</th>\n",
       "      <td>2020-01-03</td>\n",
       "      <td>44</td>\n",
       "      <td>0.0</td>\n",
       "      <td>NaN</td>\n",
       "      <td>0.0</td>\n",
       "      <td>NaN</td>\n",
       "      <td>NaN</td>\n",
       "      <td>NaN</td>\n",
       "      <td>NaN</td>\n",
       "      <td>NaN</td>\n",
       "      <td>...</td>\n",
       "      <td>0</td>\n",
       "      <td>0</td>\n",
       "      <td>NaN</td>\n",
       "      <td>NaN</td>\n",
       "      <td>NaN</td>\n",
       "      <td>NaN</td>\n",
       "      <td>NaN</td>\n",
       "      <td>0.0</td>\n",
       "      <td>NaN</td>\n",
       "      <td>NaN</td>\n",
       "    </tr>\n",
       "    <tr>\n",
       "      <th>4</th>\n",
       "      <td>2020-01-04</td>\n",
       "      <td>44</td>\n",
       "      <td>0.0</td>\n",
       "      <td>NaN</td>\n",
       "      <td>0.0</td>\n",
       "      <td>NaN</td>\n",
       "      <td>NaN</td>\n",
       "      <td>NaN</td>\n",
       "      <td>NaN</td>\n",
       "      <td>NaN</td>\n",
       "      <td>...</td>\n",
       "      <td>0</td>\n",
       "      <td>0</td>\n",
       "      <td>NaN</td>\n",
       "      <td>NaN</td>\n",
       "      <td>NaN</td>\n",
       "      <td>NaN</td>\n",
       "      <td>NaN</td>\n",
       "      <td>0.0</td>\n",
       "      <td>NaN</td>\n",
       "      <td>NaN</td>\n",
       "    </tr>\n",
       "  </tbody>\n",
       "</table>\n",
       "<p>5 rows × 205 columns</p>\n",
       "</div>"
      ],
      "text/plain": [
       "         date  World  Afghanistan  Albania  Algeria  Andorra  Angola  \\\n",
       "0  2019-12-31     27          0.0      NaN      0.0      NaN     NaN   \n",
       "1  2020-01-01     27          0.0      NaN      0.0      NaN     NaN   \n",
       "2  2020-01-02     27          0.0      NaN      0.0      NaN     NaN   \n",
       "3  2020-01-03     44          0.0      NaN      0.0      NaN     NaN   \n",
       "4  2020-01-04     44          0.0      NaN      0.0      NaN     NaN   \n",
       "\n",
       "   Anguilla  Antigua and Barbuda  Argentina  ...  United Kingdom  \\\n",
       "0       NaN                  NaN        NaN  ...               0   \n",
       "1       NaN                  NaN        NaN  ...               0   \n",
       "2       NaN                  NaN        NaN  ...               0   \n",
       "3       NaN                  NaN        NaN  ...               0   \n",
       "4       NaN                  NaN        NaN  ...               0   \n",
       "\n",
       "   United States  United States Virgin Islands  Uruguay  Uzbekistan  Vatican  \\\n",
       "0              0                           NaN      NaN         NaN      NaN   \n",
       "1              0                           NaN      NaN         NaN      NaN   \n",
       "2              0                           NaN      NaN         NaN      NaN   \n",
       "3              0                           NaN      NaN         NaN      NaN   \n",
       "4              0                           NaN      NaN         NaN      NaN   \n",
       "\n",
       "   Venezuela  Vietnam  Zambia  Zimbabwe  \n",
       "0        NaN      0.0     NaN       NaN  \n",
       "1        NaN      0.0     NaN       NaN  \n",
       "2        NaN      0.0     NaN       NaN  \n",
       "3        NaN      0.0     NaN       NaN  \n",
       "4        NaN      0.0     NaN       NaN  \n",
       "\n",
       "[5 rows x 205 columns]"
      ]
     },
     "execution_count": 83,
     "metadata": {},
     "output_type": "execute_result"
    }
   ],
   "source": [
    "all_cases.head()"
   ]
  },
  {
   "cell_type": "markdown",
   "metadata": {},
   "source": [
    "Yes, 'date' does seem to be our time column."
   ]
  },
  {
   "cell_type": "code",
   "execution_count": 84,
   "metadata": {},
   "outputs": [
    {
     "data": {
      "text/plain": [
       "0     2019-12-31\n",
       "1     2020-01-01\n",
       "2     2020-01-02\n",
       "3     2020-01-03\n",
       "4     2020-01-04\n",
       "         ...    \n",
       "90    2020-03-30\n",
       "91    2020-03-31\n",
       "92    2020-04-01\n",
       "93    2020-04-02\n",
       "94    2020-04-03\n",
       "Name: date, Length: 95, dtype: object"
      ]
     },
     "execution_count": 84,
     "metadata": {},
     "output_type": "execute_result"
    }
   ],
   "source": [
    "all_cases['date']"
   ]
  },
  {
   "cell_type": "code",
   "execution_count": 85,
   "metadata": {},
   "outputs": [
    {
     "data": {
      "text/plain": [
       "date            object\n",
       "World            int64\n",
       "Afghanistan    float64\n",
       "Albania        float64\n",
       "Algeria        float64\n",
       "                ...   \n",
       "Vatican        float64\n",
       "Venezuela      float64\n",
       "Vietnam        float64\n",
       "Zambia         float64\n",
       "Zimbabwe       float64\n",
       "Length: 205, dtype: object"
      ]
     },
     "execution_count": 85,
     "metadata": {},
     "output_type": "execute_result"
    }
   ],
   "source": [
    "#now let's check the dtypes for the \"date\" column\n",
    "all_cases.dtypes"
   ]
  },
  {
   "cell_type": "markdown",
   "metadata": {},
   "source": [
    "We see ״date״ is an object type, we'd need to transform it to a datetime format so that Python will know how to read it using time series analysis. "
   ]
  },
  {
   "cell_type": "markdown",
   "metadata": {},
   "source": [
    "# Converting the ״Date״ column into a datetime format\n",
    "Here are some of the Datetime formats for future reference: \n",
    "- %Y four digit year (e.g. 2019)\n",
    "- %y two-digit year  (w.g. 19)\n",
    "- %m two-digit month  (e.g. 03, 05)\n",
    "- %H hour, 24-hour clock (e.g. 23, 00)\n",
    "- %I hour, 12 hour clock (e.g. 11,12)\n",
    "- %M two-digit minute (e.g. 00,59)\n",
    "- %S seconds (e.g. 00,01)\n",
    "- %w weekday as integer (e.g. 0 for sunday)\n",
    "- %U week # (in a year) when Sunday is the 1st day\n",
    "- %W week # (in the year) when Monday is the 1st day in a week\n",
    "- %z UTC time Zone\n",
    "- %F shortcut for %Y-%m-%d which is a very common datetime (e.g. 2020-04-04)\n",
    "- %D shortcus for another common structure: %m/%d/%y (e.g. 04/04/20)\n",
    "\n",
    "Source: Python for Data Analysis by Wes McKinney"
   ]
  },
  {
   "cell_type": "code",
   "execution_count": 86,
   "metadata": {},
   "outputs": [
    {
     "data": {
      "text/plain": [
       "datetime.datetime(2020, 4, 6, 20, 10, 36, 963076)"
      ]
     },
     "execution_count": 86,
     "metadata": {},
     "output_type": "execute_result"
    }
   ],
   "source": [
    "#the Datetime package has calender realted functions, for exmaple, it can tell you the time right now:\n",
    "datetime.now()"
   ]
  },
  {
   "cell_type": "code",
   "execution_count": 87,
   "metadata": {},
   "outputs": [
    {
     "data": {
      "text/plain": [
       "datetime.timedelta(days=429)"
      ]
     },
     "execution_count": 87,
     "metadata": {},
     "output_type": "execute_result"
    }
   ],
   "source": [
    "# you can also calcualte number of days between two dates: \n",
    "datetime(2020,12,7)-datetime(2019,10,5)"
   ]
  },
  {
   "cell_type": "markdown",
   "metadata": {},
   "source": [
    "looking into our \"date\" column we see that ours is structured as follows: year(4 digits)-month-day. So if we look into the datetime formates above, we see that in Datetime language, we can translate it into: %Y-%m-%d OR %F\n",
    "\n"
   ]
  },
  {
   "cell_type": "code",
   "execution_count": 88,
   "metadata": {},
   "outputs": [],
   "source": [
    "#Now for us to be able to change the date column into a datetime, we need to understand the format that \n",
    "#let's transform the date column from string into datetime format\n",
    "all_cases['date'] = pd.to_datetime(all_cases['date'], format=\"%Y-%m-%d\")"
   ]
  },
  {
   "cell_type": "code",
   "execution_count": 89,
   "metadata": {},
   "outputs": [
    {
     "data": {
      "text/plain": [
       "date           datetime64[ns]\n",
       "World                   int64\n",
       "Afghanistan           float64\n",
       "Albania               float64\n",
       "Algeria               float64\n",
       "                    ...      \n",
       "Vatican               float64\n",
       "Venezuela             float64\n",
       "Vietnam               float64\n",
       "Zambia                float64\n",
       "Zimbabwe              float64\n",
       "Length: 205, dtype: object"
      ]
     },
     "execution_count": 89,
     "metadata": {},
     "output_type": "execute_result"
    }
   ],
   "source": [
    "#now let's run this command again and see if our reformating worked\n",
    "all_cases.dtypes"
   ]
  },
  {
   "cell_type": "markdown",
   "metadata": {},
   "source": [
    "We see indeed that the \"date\" column has not been changed to a datetime type. \n",
    "\n",
    "Note that time series behaves like any other pandas series so we can do stuff like:"
   ]
  },
  {
   "cell_type": "code",
   "execution_count": 90,
   "metadata": {},
   "outputs": [
    {
     "data": {
      "text/plain": [
       "0    2019-12-31\n",
       "1    2020-01-01\n",
       "2    2020-01-02\n",
       "3    2020-01-03\n",
       "4    2020-01-04\n",
       "5    2020-01-05\n",
       "6    2020-01-06\n",
       "7    2020-01-07\n",
       "8    2020-01-08\n",
       "9    2020-01-09\n",
       "10   2020-01-10\n",
       "11   2020-01-11\n",
       "12   2020-01-12\n",
       "13   2020-01-13\n",
       "14   2020-01-14\n",
       "15   2020-01-15\n",
       "16   2020-01-16\n",
       "17   2020-01-17\n",
       "18   2020-01-18\n",
       "19   2020-01-19\n",
       "Name: date, dtype: datetime64[ns]"
      ]
     },
     "execution_count": 90,
     "metadata": {},
     "output_type": "execute_result"
    }
   ],
   "source": [
    "all_cases['date'][0:20]"
   ]
  },
  {
   "cell_type": "code",
   "execution_count": 91,
   "metadata": {},
   "outputs": [
    {
     "data": {
      "text/plain": [
       "Timestamp('2019-12-31 00:00:00')"
      ]
     },
     "execution_count": 91,
     "metadata": {},
     "output_type": "execute_result"
    }
   ],
   "source": [
    "all_cases['date'].min()"
   ]
  },
  {
   "cell_type": "code",
   "execution_count": 92,
   "metadata": {},
   "outputs": [
    {
     "data": {
      "text/plain": [
       "Timestamp('2020-04-03 00:00:00')"
      ]
     },
     "execution_count": 92,
     "metadata": {},
     "output_type": "execute_result"
    }
   ],
   "source": [
    "all_cases['date'].max()"
   ]
  },
  {
   "cell_type": "code",
   "execution_count": 93,
   "metadata": {},
   "outputs": [
    {
     "data": {
      "text/plain": [
       "95"
      ]
     },
     "execution_count": 93,
     "metadata": {},
     "output_type": "execute_result"
    }
   ],
   "source": [
    "len(all_cases['date'])"
   ]
  },
  {
   "cell_type": "markdown",
   "metadata": {},
   "source": [
    "## Why should we be \"smoothing\" data?\n",
    "\n",
    "One of the reasons time series data is very useful is due to its ability to \"smooth\" the data. Smoothing a dataset means to remove outliers and see the general trend rather than the value for each single datapoint. There are a few different ways to smooth data. Today we will look into a very common method for smoothing--rolling mean (or moving windows). \n",
    "\n",
    "## Rolling Mean\n",
    "\n",
    "Rolling means are a way to calculate local averages for the purpose of smoothing the data. In this method, instead of calculating one average for the entire data, the average is calcualted in constant intervals. Using rolling means in time series is very common. The main reason is that timeseries include a large amount of observations. By displaying rolling means instead of the actual data, we can show trends. \n",
    "\n",
    "In statistics, rolling means are used for predictions (e.g. ARIMA). We will not touch upon this topic today. \n",
    "\n",
    "Let's try calculating rolling mean for our data: "
   ]
  },
  {
   "cell_type": "code",
   "execution_count": 94,
   "metadata": {},
   "outputs": [
    {
     "data": {
      "text/plain": [
       "90    147046.571429\n",
       "91    169839.285714\n",
       "92              NaN\n",
       "93              NaN\n",
       "94              NaN\n",
       "Name: USrolling_mean, dtype: float64"
      ]
     },
     "execution_count": 94,
     "metadata": {},
     "output_type": "execute_result"
    }
   ],
   "source": [
    "# let's calculate the rolling mean for the United States cases \n",
    "\n",
    "# here I am creating the local mean for intervals of 4 (in our case every 4 days). \n",
    "#In larger datasets we might apply larger intervals \n",
    "all_cases['USrolling_mean'] = all_cases['United States'].rolling(7, center=True).mean()\n",
    "# now let's view our new column  \n",
    "all_cases['USrolling_mean'].tail()"
   ]
  },
  {
   "cell_type": "code",
   "execution_count": null,
   "metadata": {},
   "outputs": [],
   "source": []
  },
  {
   "cell_type": "code",
   "execution_count": 95,
   "metadata": {},
   "outputs": [
    {
     "name": "stdout",
     "output_type": "stream",
     "text": [
      "US cases 65     159\n",
      "66     233\n",
      "67     338\n",
      "68     433\n",
      "69     554\n",
      "70     754\n",
      "71    1025\n",
      "72    1312\n",
      "73    1663\n",
      "74    2174\n",
      "Name: United States, dtype: int64\n",
      "Rolling mean in the US 65     211.428571\n",
      "66     277.857143\n",
      "67     370.857143\n",
      "68     499.428571\n",
      "69     664.142857\n",
      "70     868.428571\n",
      "71    1130.714286\n",
      "72    1490.428571\n",
      "73    1950.428571\n",
      "74    2508.571429\n",
      "Name: USrolling_mean, dtype: float64\n"
     ]
    }
   ],
   "source": [
    "#let's look into the rolling mean column in comparison to the actual cases per data:\n",
    "print ('US cases', all_cases['United States'][65:75])\n",
    "print ('Rolling mean in the US', all_cases['USrolling_mean'][65:75])"
   ]
  },
  {
   "cell_type": "markdown",
   "metadata": {},
   "source": [
    "We see that these are both mostly similiar, but that the rolling mean is \"moving\" a little slower. \n",
    "Let's visualize both the number of cases per day and the rolling mean for the US:"
   ]
  },
  {
   "cell_type": "code",
   "execution_count": 96,
   "metadata": {},
   "outputs": [
    {
     "data": {
      "image/png": "[encoded data removed]",
      "text/plain": [
       "<Figure size 720x576 with 1 Axes>"
      ]
     },
     "metadata": {},
     "output_type": "display_data"
    }
   ],
   "source": [
    "sns.set(rc={'figure.figsize':(10, 8)})\n",
    "#all_cases['World'].plot(linewidth=0.5);\n",
    "#all_cases['Vietnam'].plot(linewidth=0.5);\n",
    "\n",
    "all_cases['United States'][60:].plot(linewidth=1.5);\n",
    "all_cases['USrolling_mean'][60:].plot(linewidth=1.5);\n",
    "plt.legend(loc=\"upper left\")\n",
    "plt.title('US rolling mean and total cases')\n",
    "\n",
    "\n",
    "plt.show()\n"
   ]
  },
  {
   "cell_type": "code",
   "execution_count": 97,
   "metadata": {},
   "outputs": [],
   "source": [
    "# let's do the same for other countries\n",
    "all_cases['Italyrolling_mean'] = all_cases['Italy'].rolling(7, center=True).mean()\n",
    "all_cases['Chinarolling_mean'] = all_cases['China'].rolling(7, center=True).mean()\n",
    "all_cases['Iranrolling_mean'] = all_cases['Iran'].rolling(7, center=True).mean()\n",
    "all_cases['UKrolling_mean'] = all_cases['United Kingdom'].rolling(7, center=True).mean()\n"
   ]
  },
  {
   "cell_type": "code",
   "execution_count": 98,
   "metadata": {},
   "outputs": [
    {
     "data": {
      "image/png": "[encoded data removed]",
      "text/plain": [
       "<Figure size 1080x576 with 1 Axes>"
      ]
     },
     "metadata": {},
     "output_type": "display_data"
    }
   ],
   "source": [
    "sns.set(rc={'figure.figsize':(15, 8)})\n",
    "\n",
    "\n",
    "#italy\n",
    "all_cases['Italy'][15:].plot(linewidth=1.2, c='red');\n",
    "all_cases['Italyrolling_mean'][15:].plot(linewidth=1.2, c='darkred');\n",
    "\n",
    "#US\n",
    "all_cases['United States'][15:].plot(linewidth=1.2, c='aquamarine');\n",
    "all_cases['USrolling_mean'][15:].plot(linewidth=1.2, c='teal');\n",
    "\n",
    "#uk\n",
    "all_cases['United Kingdom'][15:].plot(linewidth=1.2, c='chocolate');\n",
    "all_cases['UKrolling_mean'][15:].plot(linewidth=1.2, c='peru');\n",
    "\n",
    "#china\n",
    "all_cases['China'][15:].plot(linewidth=1.2, c='lawngreen');\n",
    "all_cases['Chinarolling_mean'][15:].plot(linewidth=1.2, c='lightgreen');\n",
    "\n",
    "#iran\n",
    "all_cases['Iran'][15:].plot(linewidth=1.2, c='plum');\n",
    "all_cases['Iranrolling_mean'][15:].plot(linewidth=1.2, c='indigo');\n",
    "\n",
    "#add title\n",
    "plt.title('Rolling Mean & Total Cases COVID-19')\n",
    "\n",
    "#add legend\n",
    "plt.legend(loc=\"upper left\")\n",
    "\n",
    "#remove axis\n",
    "plt.axis('off')\n",
    "\n",
    "plt.show()\n",
    "\n"
   ]
  },
  {
   "cell_type": "markdown",
   "metadata": {},
   "source": [
    "Note that I used two tones of the same color for each country's number of cases and its rolling mean. As the legend indicates, the lighter color is represents the actual cases, and the lighter color represents the rolling mean. "
   ]
  },
  {
   "cell_type": "markdown",
   "metadata": {},
   "source": [
    "# Rolling Mean on NYT data\n",
    "Now let's try the same tool for \n",
    "The NYT data we used last week:. Last updated on April 5th\n",
    "https://github.com/nytimes/covid-19-data"
   ]
  },
  {
   "cell_type": "code",
   "execution_count": 99,
   "metadata": {},
   "outputs": [],
   "source": [
    "US_cases = pd.read_csv('us-states.csv')"
   ]
  },
  {
   "cell_type": "code",
   "execution_count": 100,
   "metadata": {},
   "outputs": [
    {
     "data": {
      "text/html": [
       "<div>\n",
       "<style scoped>\n",
       "    .dataframe tbody tr th:only-of-type {\n",
       "        vertical-align: middle;\n",
       "    }\n",
       "\n",
       "    .dataframe tbody tr th {\n",
       "        vertical-align: top;\n",
       "    }\n",
       "\n",
       "    .dataframe thead th {\n",
       "        text-align: right;\n",
       "    }\n",
       "</style>\n",
       "<table border=\"1\" class=\"dataframe\">\n",
       "  <thead>\n",
       "    <tr style=\"text-align: right;\">\n",
       "      <th></th>\n",
       "      <th>date</th>\n",
       "      <th>state</th>\n",
       "      <th>fips</th>\n",
       "      <th>cases</th>\n",
       "      <th>deaths</th>\n",
       "    </tr>\n",
       "  </thead>\n",
       "  <tbody>\n",
       "    <tr>\n",
       "      <th>0</th>\n",
       "      <td>2020-01-21</td>\n",
       "      <td>Washington</td>\n",
       "      <td>53</td>\n",
       "      <td>1</td>\n",
       "      <td>0</td>\n",
       "    </tr>\n",
       "    <tr>\n",
       "      <th>1</th>\n",
       "      <td>2020-01-22</td>\n",
       "      <td>Washington</td>\n",
       "      <td>53</td>\n",
       "      <td>1</td>\n",
       "      <td>0</td>\n",
       "    </tr>\n",
       "    <tr>\n",
       "      <th>2</th>\n",
       "      <td>2020-01-23</td>\n",
       "      <td>Washington</td>\n",
       "      <td>53</td>\n",
       "      <td>1</td>\n",
       "      <td>0</td>\n",
       "    </tr>\n",
       "    <tr>\n",
       "      <th>3</th>\n",
       "      <td>2020-01-24</td>\n",
       "      <td>Illinois</td>\n",
       "      <td>17</td>\n",
       "      <td>1</td>\n",
       "      <td>0</td>\n",
       "    </tr>\n",
       "    <tr>\n",
       "      <th>4</th>\n",
       "      <td>2020-01-24</td>\n",
       "      <td>Washington</td>\n",
       "      <td>53</td>\n",
       "      <td>1</td>\n",
       "      <td>0</td>\n",
       "    </tr>\n",
       "  </tbody>\n",
       "</table>\n",
       "</div>"
      ],
      "text/plain": [
       "         date       state  fips  cases  deaths\n",
       "0  2020-01-21  Washington    53      1       0\n",
       "1  2020-01-22  Washington    53      1       0\n",
       "2  2020-01-23  Washington    53      1       0\n",
       "3  2020-01-24    Illinois    17      1       0\n",
       "4  2020-01-24  Washington    53      1       0"
      ]
     },
     "execution_count": 100,
     "metadata": {},
     "output_type": "execute_result"
    }
   ],
   "source": [
    "US_cases.head()"
   ]
  },
  {
   "cell_type": "code",
   "execution_count": 101,
   "metadata": {},
   "outputs": [],
   "source": [
    "covidNY = US_cases[US_cases['state']== 'New York']"
   ]
  },
  {
   "cell_type": "code",
   "execution_count": 102,
   "metadata": {},
   "outputs": [
    {
     "name": "stderr",
     "output_type": "stream",
     "text": [
      "/opt/anaconda3/lib/python3.7/site-packages/ipykernel_launcher.py:11: SettingWithCopyWarning: \n",
      "A value is trying to be set on a copy of a slice from a DataFrame.\n",
      "Try using .loc[row_indexer,col_indexer] = value instead\n",
      "\n",
      "See the caveats in the documentation: https://pandas.pydata.org/pandas-docs/stable/user_guide/indexing.html#returning-a-view-versus-a-copy\n",
      "  # This is added back by InteractiveShellApp.init_path()\n"
     ]
    }
   ],
   "source": [
    "#once again creating a new column to count number of new cases per day\n",
    "new_cases = []\n",
    "previous_count = 0\n",
    "for i in range(len(covidNY.cases)):\n",
    "    current_count = covidNY.cases.iloc[i]\n",
    "    new_cases.append(current_count - previous_count)\n",
    "    previous_count = current_count\n",
    "    \n",
    "#and add it as a column \n",
    "\n",
    "covidNY['new_cases'] = new_cases"
   ]
  },
  {
   "cell_type": "code",
   "execution_count": 103,
   "metadata": {},
   "outputs": [
    {
     "name": "stderr",
     "output_type": "stream",
     "text": [
      "/opt/anaconda3/lib/python3.7/site-packages/ipykernel_launcher.py:8: SettingWithCopyWarning: \n",
      "A value is trying to be set on a copy of a slice from a DataFrame.\n",
      "Try using .loc[row_indexer,col_indexer] = value instead\n",
      "\n",
      "See the caveats in the documentation: https://pandas.pydata.org/pandas-docs/stable/user_guide/indexing.html#returning-a-view-versus-a-copy\n",
      "  \n"
     ]
    }
   ],
   "source": [
    "new_deaths = []\n",
    "previous_count = 0\n",
    "for i in range(len(covidNY.deaths)):\n",
    "    current_count = covidNY.deaths.iloc[i]\n",
    "    new_deaths.append(current_count - previous_count)\n",
    "    previous_count = current_count\n",
    "    \n",
    "covidNY['new_deaths'] = new_deaths"
   ]
  },
  {
   "cell_type": "code",
   "execution_count": 104,
   "metadata": {},
   "outputs": [
    {
     "data": {
      "text/html": [
       "<div>\n",
       "<style scoped>\n",
       "    .dataframe tbody tr th:only-of-type {\n",
       "        vertical-align: middle;\n",
       "    }\n",
       "\n",
       "    .dataframe tbody tr th {\n",
       "        vertical-align: top;\n",
       "    }\n",
       "\n",
       "    .dataframe thead th {\n",
       "        text-align: right;\n",
       "    }\n",
       "</style>\n",
       "<table border=\"1\" class=\"dataframe\">\n",
       "  <thead>\n",
       "    <tr style=\"text-align: right;\">\n",
       "      <th></th>\n",
       "      <th>date</th>\n",
       "      <th>state</th>\n",
       "      <th>fips</th>\n",
       "      <th>cases</th>\n",
       "      <th>deaths</th>\n",
       "      <th>new_cases</th>\n",
       "      <th>new_deaths</th>\n",
       "    </tr>\n",
       "  </thead>\n",
       "  <tbody>\n",
       "    <tr>\n",
       "      <th>246</th>\n",
       "      <td>2020-03-01</td>\n",
       "      <td>New York</td>\n",
       "      <td>36</td>\n",
       "      <td>1</td>\n",
       "      <td>0</td>\n",
       "      <td>1</td>\n",
       "      <td>0</td>\n",
       "    </tr>\n",
       "    <tr>\n",
       "      <th>261</th>\n",
       "      <td>2020-03-02</td>\n",
       "      <td>New York</td>\n",
       "      <td>36</td>\n",
       "      <td>1</td>\n",
       "      <td>0</td>\n",
       "      <td>0</td>\n",
       "      <td>0</td>\n",
       "    </tr>\n",
       "    <tr>\n",
       "      <th>276</th>\n",
       "      <td>2020-03-03</td>\n",
       "      <td>New York</td>\n",
       "      <td>36</td>\n",
       "      <td>2</td>\n",
       "      <td>0</td>\n",
       "      <td>1</td>\n",
       "      <td>0</td>\n",
       "    </tr>\n",
       "    <tr>\n",
       "      <th>293</th>\n",
       "      <td>2020-03-04</td>\n",
       "      <td>New York</td>\n",
       "      <td>36</td>\n",
       "      <td>11</td>\n",
       "      <td>0</td>\n",
       "      <td>9</td>\n",
       "      <td>0</td>\n",
       "    </tr>\n",
       "    <tr>\n",
       "      <th>313</th>\n",
       "      <td>2020-03-05</td>\n",
       "      <td>New York</td>\n",
       "      <td>36</td>\n",
       "      <td>22</td>\n",
       "      <td>0</td>\n",
       "      <td>11</td>\n",
       "      <td>0</td>\n",
       "    </tr>\n",
       "    <tr>\n",
       "      <th>338</th>\n",
       "      <td>2020-03-06</td>\n",
       "      <td>New York</td>\n",
       "      <td>36</td>\n",
       "      <td>44</td>\n",
       "      <td>0</td>\n",
       "      <td>22</td>\n",
       "      <td>0</td>\n",
       "    </tr>\n",
       "    <tr>\n",
       "      <th>369</th>\n",
       "      <td>2020-03-07</td>\n",
       "      <td>New York</td>\n",
       "      <td>36</td>\n",
       "      <td>89</td>\n",
       "      <td>0</td>\n",
       "      <td>45</td>\n",
       "      <td>0</td>\n",
       "    </tr>\n",
       "    <tr>\n",
       "      <th>404</th>\n",
       "      <td>2020-03-08</td>\n",
       "      <td>New York</td>\n",
       "      <td>36</td>\n",
       "      <td>106</td>\n",
       "      <td>0</td>\n",
       "      <td>17</td>\n",
       "      <td>0</td>\n",
       "    </tr>\n",
       "    <tr>\n",
       "      <th>440</th>\n",
       "      <td>2020-03-09</td>\n",
       "      <td>New York</td>\n",
       "      <td>36</td>\n",
       "      <td>142</td>\n",
       "      <td>0</td>\n",
       "      <td>36</td>\n",
       "      <td>0</td>\n",
       "    </tr>\n",
       "    <tr>\n",
       "      <th>478</th>\n",
       "      <td>2020-03-10</td>\n",
       "      <td>New York</td>\n",
       "      <td>36</td>\n",
       "      <td>173</td>\n",
       "      <td>0</td>\n",
       "      <td>31</td>\n",
       "      <td>0</td>\n",
       "    </tr>\n",
       "  </tbody>\n",
       "</table>\n",
       "</div>"
      ],
      "text/plain": [
       "           date     state  fips  cases  deaths  new_cases  new_deaths\n",
       "246  2020-03-01  New York    36      1       0          1           0\n",
       "261  2020-03-02  New York    36      1       0          0           0\n",
       "276  2020-03-03  New York    36      2       0          1           0\n",
       "293  2020-03-04  New York    36     11       0          9           0\n",
       "313  2020-03-05  New York    36     22       0         11           0\n",
       "338  2020-03-06  New York    36     44       0         22           0\n",
       "369  2020-03-07  New York    36     89       0         45           0\n",
       "404  2020-03-08  New York    36    106       0         17           0\n",
       "440  2020-03-09  New York    36    142       0         36           0\n",
       "478  2020-03-10  New York    36    173       0         31           0"
      ]
     },
     "execution_count": 104,
     "metadata": {},
     "output_type": "execute_result"
    }
   ],
   "source": [
    "covidNY.head(10)"
   ]
  },
  {
   "cell_type": "markdown",
   "metadata": {},
   "source": [
    "# Task 2: \n",
    "- What was the largest number of cases in one day in NYS?\n",
    "- What date was this number recorded (in New York State)? \n"
   ]
  },
  {
   "cell_type": "code",
   "execution_count": 105,
   "metadata": {},
   "outputs": [
    {
     "data": {
      "text/plain": [
       "12126"
      ]
     },
     "execution_count": 105,
     "metadata": {},
     "output_type": "execute_result"
    }
   ],
   "source": [
    "#first calculate the max number of New Cases \n",
    "\n",
    "covidNY['new_cases'].max()"
   ]
  },
  {
   "cell_type": "code",
   "execution_count": 106,
   "metadata": {},
   "outputs": [
    {
     "data": {
      "text/html": [
       "<div>\n",
       "<style scoped>\n",
       "    .dataframe tbody tr th:only-of-type {\n",
       "        vertical-align: middle;\n",
       "    }\n",
       "\n",
       "    .dataframe tbody tr th {\n",
       "        vertical-align: top;\n",
       "    }\n",
       "\n",
       "    .dataframe thead th {\n",
       "        text-align: right;\n",
       "    }\n",
       "</style>\n",
       "<table border=\"1\" class=\"dataframe\">\n",
       "  <thead>\n",
       "    <tr style=\"text-align: right;\">\n",
       "      <th></th>\n",
       "      <th>date</th>\n",
       "      <th>state</th>\n",
       "      <th>fips</th>\n",
       "      <th>cases</th>\n",
       "      <th>deaths</th>\n",
       "      <th>new_cases</th>\n",
       "      <th>new_deaths</th>\n",
       "    </tr>\n",
       "  </thead>\n",
       "  <tbody>\n",
       "    <tr>\n",
       "      <th>1807</th>\n",
       "      <td>2020-04-04</td>\n",
       "      <td>New York</td>\n",
       "      <td>36</td>\n",
       "      <td>114996</td>\n",
       "      <td>3568</td>\n",
       "      <td>12126</td>\n",
       "      <td>633</td>\n",
       "    </tr>\n",
       "  </tbody>\n",
       "</table>\n",
       "</div>"
      ],
      "text/plain": [
       "            date     state  fips   cases  deaths  new_cases  new_deaths\n",
       "1807  2020-04-04  New York    36  114996    3568      12126         633"
      ]
     },
     "execution_count": 106,
     "metadata": {},
     "output_type": "execute_result"
    }
   ],
   "source": [
    "# now let's look into where this number is \n",
    "covidNY[covidNY['new_cases']==12126] "
   ]
  },
  {
   "cell_type": "code",
   "execution_count": 107,
   "metadata": {},
   "outputs": [
    {
     "data": {
      "text/html": [
       "<div>\n",
       "<style scoped>\n",
       "    .dataframe tbody tr th:only-of-type {\n",
       "        vertical-align: middle;\n",
       "    }\n",
       "\n",
       "    .dataframe tbody tr th {\n",
       "        vertical-align: top;\n",
       "    }\n",
       "\n",
       "    .dataframe thead th {\n",
       "        text-align: right;\n",
       "    }\n",
       "</style>\n",
       "<table border=\"1\" class=\"dataframe\">\n",
       "  <thead>\n",
       "    <tr style=\"text-align: right;\">\n",
       "      <th></th>\n",
       "      <th>date</th>\n",
       "      <th>state</th>\n",
       "      <th>fips</th>\n",
       "      <th>cases</th>\n",
       "      <th>deaths</th>\n",
       "      <th>new_cases</th>\n",
       "      <th>new_deaths</th>\n",
       "    </tr>\n",
       "  </thead>\n",
       "  <tbody>\n",
       "    <tr>\n",
       "      <th>1862</th>\n",
       "      <td>2020-04-05</td>\n",
       "      <td>New York</td>\n",
       "      <td>36</td>\n",
       "      <td>122911</td>\n",
       "      <td>4161</td>\n",
       "      <td>7915</td>\n",
       "      <td>593</td>\n",
       "    </tr>\n",
       "  </tbody>\n",
       "</table>\n",
       "</div>"
      ],
      "text/plain": [
       "            date     state  fips   cases  deaths  new_cases  new_deaths\n",
       "1862  2020-04-05  New York    36  122911    4161       7915         593"
      ]
     },
     "execution_count": 107,
     "metadata": {},
     "output_type": "execute_result"
    }
   ],
   "source": [
    "covidNY[covidNY['date']=='2020-04-05']"
   ]
  },
  {
   "cell_type": "code",
   "execution_count": 108,
   "metadata": {},
   "outputs": [
    {
     "data": {
      "text/plain": [
       "712"
      ]
     },
     "execution_count": 108,
     "metadata": {},
     "output_type": "execute_result"
    }
   ],
   "source": [
    "covidNY['new_deaths'].max()"
   ]
  },
  {
   "cell_type": "code",
   "execution_count": 109,
   "metadata": {},
   "outputs": [
    {
     "data": {
      "text/html": [
       "<div>\n",
       "<style scoped>\n",
       "    .dataframe tbody tr th:only-of-type {\n",
       "        vertical-align: middle;\n",
       "    }\n",
       "\n",
       "    .dataframe tbody tr th {\n",
       "        vertical-align: top;\n",
       "    }\n",
       "\n",
       "    .dataframe thead th {\n",
       "        text-align: right;\n",
       "    }\n",
       "</style>\n",
       "<table border=\"1\" class=\"dataframe\">\n",
       "  <thead>\n",
       "    <tr style=\"text-align: right;\">\n",
       "      <th></th>\n",
       "      <th>date</th>\n",
       "      <th>state</th>\n",
       "      <th>fips</th>\n",
       "      <th>cases</th>\n",
       "      <th>deaths</th>\n",
       "      <th>new_cases</th>\n",
       "      <th>new_deaths</th>\n",
       "    </tr>\n",
       "  </thead>\n",
       "  <tbody>\n",
       "    <tr>\n",
       "      <th>1642</th>\n",
       "      <td>2020-04-01</td>\n",
       "      <td>New York</td>\n",
       "      <td>36</td>\n",
       "      <td>83889</td>\n",
       "      <td>1941</td>\n",
       "      <td>8057</td>\n",
       "      <td>391</td>\n",
       "    </tr>\n",
       "    <tr>\n",
       "      <th>1697</th>\n",
       "      <td>2020-04-02</td>\n",
       "      <td>New York</td>\n",
       "      <td>36</td>\n",
       "      <td>92770</td>\n",
       "      <td>2653</td>\n",
       "      <td>8881</td>\n",
       "      <td>712</td>\n",
       "    </tr>\n",
       "    <tr>\n",
       "      <th>1752</th>\n",
       "      <td>2020-04-03</td>\n",
       "      <td>New York</td>\n",
       "      <td>36</td>\n",
       "      <td>102870</td>\n",
       "      <td>2935</td>\n",
       "      <td>10100</td>\n",
       "      <td>282</td>\n",
       "    </tr>\n",
       "    <tr>\n",
       "      <th>1807</th>\n",
       "      <td>2020-04-04</td>\n",
       "      <td>New York</td>\n",
       "      <td>36</td>\n",
       "      <td>114996</td>\n",
       "      <td>3568</td>\n",
       "      <td>12126</td>\n",
       "      <td>633</td>\n",
       "    </tr>\n",
       "    <tr>\n",
       "      <th>1862</th>\n",
       "      <td>2020-04-05</td>\n",
       "      <td>New York</td>\n",
       "      <td>36</td>\n",
       "      <td>122911</td>\n",
       "      <td>4161</td>\n",
       "      <td>7915</td>\n",
       "      <td>593</td>\n",
       "    </tr>\n",
       "  </tbody>\n",
       "</table>\n",
       "</div>"
      ],
      "text/plain": [
       "            date     state  fips   cases  deaths  new_cases  new_deaths\n",
       "1642  2020-04-01  New York    36   83889    1941       8057         391\n",
       "1697  2020-04-02  New York    36   92770    2653       8881         712\n",
       "1752  2020-04-03  New York    36  102870    2935      10100         282\n",
       "1807  2020-04-04  New York    36  114996    3568      12126         633\n",
       "1862  2020-04-05  New York    36  122911    4161       7915         593"
      ]
     },
     "execution_count": 109,
     "metadata": {},
     "output_type": "execute_result"
    }
   ],
   "source": [
    "covidNY.tail()"
   ]
  },
  {
   "cell_type": "markdown",
   "metadata": {},
   "source": [
    "# Time series for NY data:"
   ]
  },
  {
   "cell_type": "markdown",
   "metadata": {},
   "source": [
    "Similiar to the world data let's visualize the NY data as time series: "
   ]
  },
  {
   "cell_type": "code",
   "execution_count": 110,
   "metadata": {},
   "outputs": [
    {
     "data": {
      "text/plain": [
       "36"
      ]
     },
     "execution_count": 110,
     "metadata": {},
     "output_type": "execute_result"
    }
   ],
   "source": [
    "#how many days in data?\n",
    "len(covidNY)"
   ]
  },
  {
   "cell_type": "code",
   "execution_count": 111,
   "metadata": {},
   "outputs": [
    {
     "data": {
      "text/plain": [
       "date          object\n",
       "state         object\n",
       "fips           int64\n",
       "cases          int64\n",
       "deaths         int64\n",
       "new_cases      int64\n",
       "new_deaths     int64\n",
       "dtype: object"
      ]
     },
     "execution_count": 111,
     "metadata": {},
     "output_type": "execute_result"
    }
   ],
   "source": [
    "covidNY.dtypes"
   ]
  },
  {
   "cell_type": "code",
   "execution_count": 112,
   "metadata": {},
   "outputs": [
    {
     "name": "stderr",
     "output_type": "stream",
     "text": [
      "/opt/anaconda3/lib/python3.7/site-packages/ipykernel_launcher.py:3: SettingWithCopyWarning: \n",
      "A value is trying to be set on a copy of a slice from a DataFrame.\n",
      "Try using .loc[row_indexer,col_indexer] = value instead\n",
      "\n",
      "See the caveats in the documentation: https://pandas.pydata.org/pandas-docs/stable/user_guide/indexing.html#returning-a-view-versus-a-copy\n",
      "  This is separate from the ipykernel package so we can avoid doing imports until\n"
     ]
    }
   ],
   "source": [
    "# tranform data column into datetime\n",
    "#let's transform the date column into datetime format\n",
    "covidNY['date'] = pd.to_datetime(covidNY['date'], format=\"%Y-%m-%d\")"
   ]
  },
  {
   "cell_type": "code",
   "execution_count": 113,
   "metadata": {},
   "outputs": [
    {
     "data": {
      "text/plain": [
       "date          datetime64[ns]\n",
       "state                 object\n",
       "fips                   int64\n",
       "cases                  int64\n",
       "deaths                 int64\n",
       "new_cases              int64\n",
       "new_deaths             int64\n",
       "dtype: object"
      ]
     },
     "execution_count": 113,
     "metadata": {},
     "output_type": "execute_result"
    }
   ],
   "source": [
    "covidNY.dtypes"
   ]
  },
  {
   "cell_type": "code",
   "execution_count": 114,
   "metadata": {},
   "outputs": [
    {
     "data": {
      "text/plain": [
       "dtype('<M8[ns]')"
      ]
     },
     "execution_count": 114,
     "metadata": {},
     "output_type": "execute_result"
    }
   ],
   "source": [
    "#make sure it works: \n",
    "\n",
    "covidNY['date'].dtypes"
   ]
  },
  {
   "cell_type": "code",
   "execution_count": 115,
   "metadata": {},
   "outputs": [
    {
     "name": "stderr",
     "output_type": "stream",
     "text": [
      "/opt/anaconda3/lib/python3.7/site-packages/ipykernel_launcher.py:1: SettingWithCopyWarning: \n",
      "A value is trying to be set on a copy of a slice from a DataFrame.\n",
      "Try using .loc[row_indexer,col_indexer] = value instead\n",
      "\n",
      "See the caveats in the documentation: https://pandas.pydata.org/pandas-docs/stable/user_guide/indexing.html#returning-a-view-versus-a-copy\n",
      "  \"\"\"Entry point for launching an IPython kernel.\n"
     ]
    },
    {
     "data": {
      "text/plain": [
       "1642     79916.25\n",
       "1697     88840.25\n",
       "1752     98631.25\n",
       "1807    108386.75\n",
       "1862          NaN\n",
       "Name: NYrolling_mean, dtype: float64"
      ]
     },
     "execution_count": 115,
     "metadata": {},
     "output_type": "execute_result"
    }
   ],
   "source": [
    "covidNY['NYrolling_mean'] = covidNY['cases'].rolling(4, center=True).mean()\n",
    "covidNY['NYrolling_mean'].tail()"
   ]
  },
  {
   "cell_type": "code",
   "execution_count": 116,
   "metadata": {},
   "outputs": [
    {
     "data": {
      "text/plain": [
       "(165.2, 1942.8, -6144.5, 129056.5)"
      ]
     },
     "execution_count": 116,
     "metadata": {},
     "output_type": "execute_result"
    },
    {
     "data": {
      "image/png": "[encoded data removed]",
      "text/plain": [
       "<Figure size 1080x576 with 1 Axes>"
      ]
     },
     "metadata": {},
     "output_type": "display_data"
    }
   ],
   "source": [
    "#visualize NY rolling mean and total cases: \n",
    "covidNY['NYrolling_mean'].plot(linewidth=0.5);\n",
    "covidNY['cases'].plot(linewidth=0.5);\n",
    "plt.title('NY rolling mean and total cases')\n",
    "plt.legend(loc=\"upper left\")\n",
    "plt.axis('off')"
   ]
  },
  {
   "cell_type": "markdown",
   "metadata": {},
   "source": [
    "# Time Series for Frocasting: \n",
    "\n",
    "Many fields use timeseires analysis for forcasting. That means that looking into a specific period there might be a way to predict the future. That assumes that the \"history repeats itself\". But is that always true? Are the trends we are seeing with COVID-19 cases and deaths are likely to repeat themselves? Given social distanincing and that most of us chaged our lives completly in the past few weeks, we are now still seeing cases and deaths that are likely the result of contamination from 2-3 weeks ago. Another element is that we only have data from 36 days (since the 1st case). 36 days are not enough to really understand trends and being able to predict unsing timeseries analysis. In addition we still can not understand seasonality, which usually is a key to foracsting in timeseries analysis.  \n",
    "\n",
    "To understand this issue even better we will look into both the deaths and the cases' daily counts. "
   ]
  },
  {
   "cell_type": "code",
   "execution_count": 117,
   "metadata": {},
   "outputs": [
    {
     "data": {
      "text/plain": [
       "(165.2, 1942.8, -606.3000000000001, 12732.3)"
      ]
     },
     "execution_count": 117,
     "metadata": {},
     "output_type": "execute_result"
    },
    {
     "data": {
      "image/png": "[encoded data removed]",
      "text/plain": [
       "<Figure size 1080x576 with 1 Axes>"
      ]
     },
     "metadata": {},
     "output_type": "display_data"
    }
   ],
   "source": [
    "#covidNY['']\n",
    "\n",
    "covidNY['new_cases'].plot(linewidth=1.5, c='m');\n",
    "#covidNY['new_deaths'].plot(linewidth=1.5, c='C');\n",
    "\n",
    "plt.title('NY daily cases COVID-19')\n",
    "\n",
    "plt.legend(loc=\"upper left\")\n",
    "plt.axis('off')\n",
    "#covidNY['cases'].plot(linewidth=0.5);"
   ]
  },
  {
   "cell_type": "code",
   "execution_count": 118,
   "metadata": {},
   "outputs": [
    {
     "name": "stderr",
     "output_type": "stream",
     "text": [
      "/opt/anaconda3/lib/python3.7/site-packages/IPython/core/pylabtools.py:132: MatplotlibDeprecationWarning: Support for uppercase single-letter colors is deprecated since Matplotlib 3.1 and will be removed in 3.3; please use lowercase instead.\n",
      "  fig.canvas.print_figure(bytes_io, **kw)\n"
     ]
    },
    {
     "data": {
      "image/png": "[encoded data removed]",
      "text/plain": [
       "<Figure size 1080x576 with 1 Axes>"
      ]
     },
     "metadata": {},
     "output_type": "display_data"
    }
   ],
   "source": [
    "covidNY['new_deaths'].plot(linewidth=1.5, c='C');\n",
    "plt.title('NY daily deaths COVID-19')\n",
    "plt.legend(loc=\"upper left\")\n",
    "plt.axis('off')\n",
    "plt.show()"
   ]
  },
  {
   "cell_type": "markdown",
   "metadata": {},
   "source": [
    "Conclusion: we see that so far, there has been an overall trend of increase in cases. However, there have been also a few days with sudden dip and than an increase. It seems like at this point we just don't have enough data points to predict the next few days. "
   ]
  },
  {
   "cell_type": "code",
   "execution_count": null,
   "metadata": {},
   "outputs": [],
   "source": []
  }
 ],
 "metadata": {
  "kernelspec": {
   "display_name": "Python 3",
   "language": "python",
   "name": "python3"
  },
  "language_info": {
   "codemirror_mode": {
    "name": "ipython",
    "version": 3
   },
   "file_extension": ".py",
   "mimetype": "text/x-python",
   "name": "python",
   "nbconvert_exporter": "python",
   "pygments_lexer": "ipython3",
   "version": "3.7.6"
  }
 },
 "nbformat": 4,
 "nbformat_minor": 4
}
